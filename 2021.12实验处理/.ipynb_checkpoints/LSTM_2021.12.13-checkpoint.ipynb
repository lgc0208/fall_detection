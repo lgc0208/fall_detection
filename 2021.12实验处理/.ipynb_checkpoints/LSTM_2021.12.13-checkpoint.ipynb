{
 "cells": [
  {
   "cell_type": "markdown",
   "metadata": {},
   "source": [
    "# 导入必要库"
   ]
  },
  {
   "cell_type": "code",
   "execution_count": 1,
   "metadata": {},
   "outputs": [],
   "source": [
    "import pandas as pd\n",
    "import numpy as np\n",
    "%matplotlib inline\n",
    "import matplotlib.pyplot as plt\n",
    "from os import listdir"
   ]
  },
  {
   "cell_type": "code",
   "execution_count": 2,
   "metadata": {},
   "outputs": [],
   "source": [
    "from keras.preprocessing import sequence \n",
    "from keras.models import Sequential \n",
    "from keras.layers import Dense \n",
    "from keras.layers import LSTM \n",
    "\n",
    "from keras.optimizers import adam_v2\n",
    "from keras.models import load_model \n",
    "from keras.callbacks import ModelCheckpoint"
   ]
  },
  {
   "cell_type": "markdown",
   "metadata": {},
   "source": [
    "# 预览数据"
   ]
  },
  {
   "cell_type": "code",
   "execution_count": 3,
   "metadata": {
    "scrolled": true
   },
   "outputs": [
    {
     "data": {
      "text/html": [
       "<div>\n",
       "<style scoped>\n",
       "    .dataframe tbody tr th:only-of-type {\n",
       "        vertical-align: middle;\n",
       "    }\n",
       "\n",
       "    .dataframe tbody tr th {\n",
       "        vertical-align: top;\n",
       "    }\n",
       "\n",
       "    .dataframe thead th {\n",
       "        text-align: right;\n",
       "    }\n",
       "</style>\n",
       "<table border=\"1\" class=\"dataframe\">\n",
       "  <thead>\n",
       "    <tr style=\"text-align: right;\">\n",
       "      <th></th>\n",
       "      <th>0</th>\n",
       "      <th>1</th>\n",
       "      <th>2</th>\n",
       "      <th>3</th>\n",
       "      <th>4</th>\n",
       "      <th>5</th>\n",
       "    </tr>\n",
       "  </thead>\n",
       "  <tbody>\n",
       "    <tr>\n",
       "      <td>0</td>\n",
       "      <td>9856</td>\n",
       "      <td>-13888</td>\n",
       "      <td>-2292</td>\n",
       "      <td>-904</td>\n",
       "      <td>-136</td>\n",
       "      <td>-170</td>\n",
       "    </tr>\n",
       "    <tr>\n",
       "      <td>1</td>\n",
       "      <td>9764</td>\n",
       "      <td>-13860</td>\n",
       "      <td>-2212</td>\n",
       "      <td>-602</td>\n",
       "      <td>-403</td>\n",
       "      <td>-35</td>\n",
       "    </tr>\n",
       "    <tr>\n",
       "      <td>2</td>\n",
       "      <td>9696</td>\n",
       "      <td>-14000</td>\n",
       "      <td>-2020</td>\n",
       "      <td>-644</td>\n",
       "      <td>-184</td>\n",
       "      <td>18</td>\n",
       "    </tr>\n",
       "    <tr>\n",
       "      <td>3</td>\n",
       "      <td>10020</td>\n",
       "      <td>-13732</td>\n",
       "      <td>-2276</td>\n",
       "      <td>-575</td>\n",
       "      <td>-418</td>\n",
       "      <td>-42</td>\n",
       "    </tr>\n",
       "    <tr>\n",
       "      <td>4</td>\n",
       "      <td>9844</td>\n",
       "      <td>-13880</td>\n",
       "      <td>-2096</td>\n",
       "      <td>-733</td>\n",
       "      <td>-397</td>\n",
       "      <td>24</td>\n",
       "    </tr>\n",
       "  </tbody>\n",
       "</table>\n",
       "</div>"
      ],
      "text/plain": [
       "       0      1     2    3    4    5\n",
       "0   9856 -13888 -2292 -904 -136 -170\n",
       "1   9764 -13860 -2212 -602 -403  -35\n",
       "2   9696 -14000 -2020 -644 -184   18\n",
       "3  10020 -13732 -2276 -575 -418  -42\n",
       "4   9844 -13880 -2096 -733 -397   24"
      ]
     },
     "execution_count": 3,
     "metadata": {},
     "output_type": "execute_result"
    }
   ],
   "source": [
    "# 一期数据\n",
    "df = pd.read_csv(\"10-15一期实验数据/10-15-001.csv\", header=None, usecols=[0,1,2,3,4,5])\n",
    "df.head()"
   ]
  },
  {
   "cell_type": "code",
   "execution_count": 4,
   "metadata": {},
   "outputs": [
    {
     "data": {
      "text/html": [
       "<div>\n",
       "<style scoped>\n",
       "    .dataframe tbody tr th:only-of-type {\n",
       "        vertical-align: middle;\n",
       "    }\n",
       "\n",
       "    .dataframe tbody tr th {\n",
       "        vertical-align: top;\n",
       "    }\n",
       "\n",
       "    .dataframe thead th {\n",
       "        text-align: right;\n",
       "    }\n",
       "</style>\n",
       "<table border=\"1\" class=\"dataframe\">\n",
       "  <thead>\n",
       "    <tr style=\"text-align: right;\">\n",
       "      <th></th>\n",
       "      <th>0</th>\n",
       "      <th>1</th>\n",
       "      <th>2</th>\n",
       "      <th>3</th>\n",
       "      <th>4</th>\n",
       "      <th>5</th>\n",
       "    </tr>\n",
       "  </thead>\n",
       "  <tbody>\n",
       "    <tr>\n",
       "      <td>0</td>\n",
       "      <td>-4180</td>\n",
       "      <td>-16092</td>\n",
       "      <td>-276</td>\n",
       "      <td>-690</td>\n",
       "      <td>-999</td>\n",
       "      <td>23</td>\n",
       "    </tr>\n",
       "    <tr>\n",
       "      <td>1</td>\n",
       "      <td>-4016</td>\n",
       "      <td>-16112</td>\n",
       "      <td>284</td>\n",
       "      <td>-789</td>\n",
       "      <td>-628</td>\n",
       "      <td>153</td>\n",
       "    </tr>\n",
       "    <tr>\n",
       "      <td>2</td>\n",
       "      <td>-4228</td>\n",
       "      <td>-15780</td>\n",
       "      <td>56</td>\n",
       "      <td>-917</td>\n",
       "      <td>-571</td>\n",
       "      <td>17</td>\n",
       "    </tr>\n",
       "    <tr>\n",
       "      <td>3</td>\n",
       "      <td>-3976</td>\n",
       "      <td>-16080</td>\n",
       "      <td>-276</td>\n",
       "      <td>-691</td>\n",
       "      <td>-583</td>\n",
       "      <td>35</td>\n",
       "    </tr>\n",
       "    <tr>\n",
       "      <td>4</td>\n",
       "      <td>-4400</td>\n",
       "      <td>-15960</td>\n",
       "      <td>-156</td>\n",
       "      <td>-586</td>\n",
       "      <td>-160</td>\n",
       "      <td>63</td>\n",
       "    </tr>\n",
       "  </tbody>\n",
       "</table>\n",
       "</div>"
      ],
      "text/plain": [
       "      0      1    2    3    4    5\n",
       "0 -4180 -16092 -276 -690 -999   23\n",
       "1 -4016 -16112  284 -789 -628  153\n",
       "2 -4228 -15780   56 -917 -571   17\n",
       "3 -3976 -16080 -276 -691 -583   35\n",
       "4 -4400 -15960 -156 -586 -160   63"
      ]
     },
     "execution_count": 4,
     "metadata": {},
     "output_type": "execute_result"
    }
   ],
   "source": [
    "# 二期数据\n",
    "df = pd.read_csv(\"11.28实验2/back001.csv\", header=None, usecols=[0,1,2,3,4,5])\n",
    "df.head()"
   ]
  },
  {
   "cell_type": "markdown",
   "metadata": {},
   "source": [
    "# 处理数据长度"
   ]
  },
  {
   "cell_type": "code",
   "execution_count": 3,
   "metadata": {},
   "outputs": [
    {
     "name": "stdout",
     "output_type": "stream",
     "text": [
      "10-15一期实验数据/10-15-001.csv\n",
      "10-15一期实验数据/10-15-002.csv\n",
      "10-15一期实验数据/10-15-003.csv\n",
      "10-15一期实验数据/10-15-004.csv\n",
      "10-15一期实验数据/10-15-005.csv\n",
      "10-15一期实验数据/10-15-006.csv\n",
      "10-15一期实验数据/10-15-007.csv\n",
      "10-15一期实验数据/10-15-008.csv\n",
      "10-15一期实验数据/10-15-009.csv\n",
      "10-15一期实验数据/10-15-010.csv\n",
      "10-15一期实验数据/10-15-011.csv\n",
      "10-15一期实验数据/10-15-012.csv\n",
      "10-15一期实验数据/10-15-013.csv\n",
      "10-15一期实验数据/10-15-014.csv\n",
      "10-15一期实验数据/10-15-015.csv\n",
      "10-15一期实验数据/10-15-016.csv\n",
      "10-15一期实验数据/10-15-017.csv\n",
      "10-15一期实验数据/10-15-018.csv\n",
      "10-15一期实验数据/10-15-019.csv\n",
      "10-15一期实验数据/10-15-020.csv\n",
      "10-15一期实验数据/10-15-021.csv\n",
      "10-15一期实验数据/10-15-022.csv\n",
      "10-15一期实验数据/10-15-023.csv\n",
      "10-15一期实验数据/10-15-024.csv\n",
      "10-15一期实验数据/10-15-025.csv\n",
      "10-15一期实验数据/10-15-026.csv\n",
      "10-15一期实验数据/10-15-027.csv\n",
      "10-15一期实验数据/10-15-028.csv\n",
      "10-15一期实验数据/10-15-029.csv\n",
      "10-15一期实验数据/10-15-030.csv\n",
      "10-15一期实验数据/10-15-031.csv\n",
      "10-15一期实验数据/10-15-032.csv\n",
      "10-15一期实验数据/10-15-033.csv\n",
      "10-15一期实验数据/10-15-034.csv\n",
      "10-15一期实验数据/10-15-035.csv\n",
      "10-15一期实验数据/10-15-036.csv\n",
      "10-15一期实验数据/10-15-037.csv\n",
      "10-15一期实验数据/10-15-038.csv\n",
      "11.28实验2/back001.csv\n",
      "11.28实验2/back002.csv\n",
      "11.28实验2/back003.csv\n",
      "11.28实验2/back004.csv\n",
      "11.28实验2/back005.csv\n",
      "11.28实验2/back006.csv\n",
      "11.28实验2/back007.csv\n",
      "11.28实验2/left001.csv\n",
      "11.28实验2/left002.csv\n",
      "11.28实验2/left003.csv\n",
      "11.28实验2/left004.csv\n",
      "11.28实验2/left005.csv\n",
      "11.28实验2/left006.csv\n",
      "11.28实验2/left007.csv\n",
      "11.28实验2/left008.csv\n",
      "11.28实验2/left009.csv\n",
      "11.28实验2/left010.csv\n",
      "11.28实验2/left011.csv\n",
      "11.28实验2/left012.csv\n",
      "11.28实验2/left013.csv\n",
      "11.28实验2/left014.csv\n",
      "11.28实验2/left015.csv\n",
      "11.28实验2/left016.csv\n",
      "11.28实验2/left017.csv\n",
      "11.28实验2/left018.csv\n",
      "11.28实验2/left019.csv\n",
      "11.28实验2/left020.csv\n",
      "11.28实验2/left021.csv\n",
      "11.28实验2/left022.csv\n",
      "11.28实验2/left023.csv\n",
      "11.28实验2/left024.csv\n",
      "11.28实验2/left025.csv\n",
      "11.28实验2/left026.csv\n",
      "11.28实验2/left027.csv\n",
      "11.28实验2/left028.csv\n",
      "11.28实验2/left029.csv\n",
      "11.28实验2/left030.csv\n",
      "11.28实验2/left031.csv\n",
      "11.28实验2/left032.csv\n",
      "11.28实验2/left033.csv\n",
      "11.28实验2/left034.csv\n",
      "11.28实验2/left035.csv\n",
      "11.28实验2/left036.csv\n",
      "11.28实验2/left037.csv\n",
      "11.28实验2/left038.csv\n",
      "11.28实验2/left039.csv\n",
      "11.28实验2/left040.csv\n",
      "10-15一期实验数据/0-1.csv\n",
      "10-15一期实验数据/0-2.csv\n",
      "10-15一期实验数据/0-3.csv\n",
      "10-15一期实验数据/0-4.csv\n",
      "10-15一期实验数据/0-5.csv\n",
      "10-15一期实验数据/0-6.csv\n",
      "10-15一期实验数据/0-7.csv\n",
      "10-15一期实验数据/0-8.csv\n",
      "10-15一期实验数据/0-9.csv\n",
      "10-15一期实验数据/0-10.csv\n",
      "10-15一期实验数据/0-11.csv\n",
      "10-15一期实验数据/0-12.csv\n",
      "10-15一期实验数据/0-13.csv\n",
      "10-15一期实验数据/0-14.csv\n",
      "10-15一期实验数据/0-15.csv\n",
      "10-15一期实验数据/0-16.csv\n",
      "10-15一期实验数据/0-17.csv\n",
      "10-15一期实验数据/0-18.csv\n",
      "10-15一期实验数据/0-19.csv\n",
      "11.28实验2/jump001.csv\n",
      "11.28实验2/jump002.csv\n",
      "11.28实验2/jump003.csv\n"
     ]
    }
   ],
   "source": [
    "# 一期数据\n",
    "path_1 = \"10-15一期实验数据/\"\n",
    "# 二期数据\n",
    "path_2 = \"11.28实验2/\"\n",
    "sequences = list()\n",
    "# 正样本数据\n",
    "for i in range(1, 39):\n",
    "    if i < 10:\n",
    "        filePath = path_1 + \"10-15-00\" + str(i) + \".csv\"\n",
    "    else:\n",
    "        filePath = path_1 + \"10-15-0\" + str(i) + \".csv\"\n",
    "    print(filePath)\n",
    "    df = pd.read_csv(filePath, header=None, usecols=[0,1,2,3,4,5]).dropna(axis=0,how='any')\n",
    "    values = df.values\n",
    "    sequences.append(values)\n",
    "for i in range(1, 8):\n",
    "    filePath = path_2 + \"back00\" + str(i) + \".csv\"\n",
    "    df = pd.read_csv(filePath, header=None, usecols=[0,1,2,3,4,5]).dropna(axis=0,how='any')\n",
    "    print(filePath)\n",
    "    values = df.values\n",
    "    sequences.append(values)\n",
    "for i in range(1, 41):\n",
    "    if i < 10:\n",
    "        filePath = path_2 + \"left00\" + str(i) + \".csv\"\n",
    "    else:\n",
    "        filePath = path_2 + \"left0\" + str(i) + \".csv\"\n",
    "    print(filePath)\n",
    "    df = pd.read_csv(filePath, header=None, usecols=[0,1,2,3,4,5]).dropna(axis=0,how='any')\n",
    "    values = df.values\n",
    "    sequences.append(values)\n",
    "    \n",
    "# 负样本数据\n",
    "for i in range(1, 20):\n",
    "    filePath = path_1 + \"0-\" + str(i) + \".csv\"\n",
    "    print(filePath)\n",
    "    df = pd.read_csv(filePath, header=None, usecols=[0,1,2,3,4,5]).dropna(axis=0,how='any')\n",
    "    values = df.values\n",
    "    sequences.append(values)\n",
    "for i in range(1, 4):\n",
    "    filePath = path_2 + \"jump00\" + str(i) + \".csv\"\n",
    "    print(filePath)\n",
    "    df = pd.read_csv(filePath, header=None, usecols=[0,1,2,3,4,5]).dropna(axis=0,how='any')\n",
    "    values = df.values\n",
    "    sequences.append(values)"
   ]
  },
  {
   "cell_type": "code",
   "execution_count": 12,
   "metadata": {},
   "outputs": [],
   "source": [
    "targets = pd.read_csv(\"11.28实验2/target.csv\", header=None).values"
   ]
  },
  {
   "cell_type": "markdown",
   "metadata": {},
   "source": [
    "**由于时间序列数据长度不一，我们不能直接在这个数据集上建立模型。先找出最小、最大和平均长度：**"
   ]
  },
  {
   "cell_type": "code",
   "execution_count": 13,
   "metadata": {},
   "outputs": [
    {
     "data": {
      "text/plain": [
       "count    107.000000\n",
       "mean      29.373832\n",
       "std        7.613944\n",
       "min       13.000000\n",
       "25%       26.000000\n",
       "50%       29.000000\n",
       "75%       31.500000\n",
       "max       84.000000\n",
       "dtype: float64"
      ]
     },
     "execution_count": 13,
     "metadata": {},
     "output_type": "execute_result"
    }
   ],
   "source": [
    "len_sequences = [] \n",
    "for one_seq in sequences: \n",
    "    len_sequences.append(len(one_seq)) \n",
    "pd.Series(len_sequences).describe()"
   ]
  },
  {
   "cell_type": "markdown",
   "metadata": {},
   "source": [
    "**大多数文件的长度在$20$到$40$之间。只有极少个文件的长度超过$60$。因此，取最小或最大长度没有多大意义。选择上四分位数作为序列的长度，进行数据处理**"
   ]
  },
  {
   "cell_type": "code",
   "execution_count": 14,
   "metadata": {},
   "outputs": [],
   "source": [
    "#用最后一行的值填充序列到最大长度\n",
    "to_pad = 84\n",
    "new_seq = []\n",
    "for one_seq in sequences:\n",
    "    len_one_seq = len(one_seq)\n",
    "    last_val = one_seq[-1]\n",
    "    n = to_pad - len_one_seq\n",
    "   \n",
    "    to_concat = np.repeat(one_seq[-1], n).reshape(6, n).transpose()\n",
    "    new_one_seq = np.concatenate([one_seq, to_concat])\n",
    "    new_seq.append(new_one_seq)\n",
    "final_seq = np.stack(new_seq)\n",
    "\n",
    "#将序列截断为长度 32\n",
    "from keras.preprocessing import sequence\n",
    "seq_len = 32\n",
    "final_seq=sequence.pad_sequences(final_seq, maxlen=seq_len, padding='post', dtype='float', truncating='post')"
   ]
  },
  {
   "cell_type": "code",
   "execution_count": 15,
   "metadata": {},
   "outputs": [
    {
     "data": {
      "text/plain": [
       "(107, 32, 6)"
      ]
     },
     "execution_count": 15,
     "metadata": {},
     "output_type": "execute_result"
    }
   ],
   "source": [
    "final_seq.shape"
   ]
  },
  {
   "cell_type": "markdown",
   "metadata": {},
   "source": [
    "# 构建训练集和测试集"
   ]
  },
  {
   "cell_type": "code",
   "execution_count": 16,
   "metadata": {},
   "outputs": [
    {
     "data": {
      "text/plain": [
       "(27, 1)"
      ]
     },
     "execution_count": 16,
     "metadata": {},
     "output_type": "execute_result"
    }
   ],
   "source": [
    "# 引入训练集、测试集划分函数\n",
    "from sklearn.model_selection import train_test_split\n",
    "\n",
    "# 将数据集按照 80% 和 20% 的比例随机划分为训练集和测试集\n",
    "train_data, test_data, train_target, test_target = train_test_split(final_seq, targets)\n",
    "test_target.shape"
   ]
  },
  {
   "cell_type": "code",
   "execution_count": 44,
   "metadata": {},
   "outputs": [],
   "source": [
    "train_data = np.array(train_data)\n",
    "test_data = np.array(test_data)\n",
    "\n",
    "train_target = np.array(train_target)\n",
    "#train_target = (train_target+1)/2\n",
    "\n",
    "test_target = np.array(test_target)\n",
    "#test_target = (test_target+1)/2"
   ]
  },
  {
   "cell_type": "markdown",
   "metadata": {},
   "source": [
    "# 构建 LSTM"
   ]
  },
  {
   "cell_type": "code",
   "execution_count": 56,
   "metadata": {},
   "outputs": [],
   "source": [
    "from keras.layers import Dropout\n",
    "model = Sequential() \n",
    "model.add(LSTM(256, input_shape=(seq_len, 6), return_sequences=True)) \n",
    "model.add(LSTM(128, return_sequences=True))\n",
    "model.add(LSTM(64, return_sequences=True))\n",
    "model.add(LSTM(32, return_sequences=False))\n",
    "model.add(Dense(16, activation='ReLU'))\n",
    "model.add(Dropout(0.5))\n",
    "model.add(Dense(1, activation='sigmoid'))"
   ]
  },
  {
   "cell_type": "code",
   "execution_count": 57,
   "metadata": {},
   "outputs": [
    {
     "name": "stdout",
     "output_type": "stream",
     "text": [
      "Model: \"sequential_2\"\n",
      "_________________________________________________________________\n",
      " Layer (type)                Output Shape              Param #   \n",
      "=================================================================\n",
      " lstm_8 (LSTM)               (None, 32, 256)           269312    \n",
      "                                                                 \n",
      " lstm_9 (LSTM)               (None, 32, 128)           197120    \n",
      "                                                                 \n",
      " lstm_10 (LSTM)              (None, 32, 64)            49408     \n",
      "                                                                 \n",
      " lstm_11 (LSTM)              (None, 32)                12416     \n",
      "                                                                 \n",
      " dense_4 (Dense)             (None, 16)                528       \n",
      "                                                                 \n",
      " dropout_2 (Dropout)         (None, 16)                0         \n",
      "                                                                 \n",
      " dense_5 (Dense)             (None, 1)                 17        \n",
      "                                                                 \n",
      "=================================================================\n",
      "Total params: 528,801\n",
      "Trainable params: 528,801\n",
      "Non-trainable params: 0\n",
      "_________________________________________________________________\n"
     ]
    }
   ],
   "source": [
    "model.summary()"
   ]
  },
  {
   "cell_type": "code",
   "execution_count": 58,
   "metadata": {
    "scrolled": false
   },
   "outputs": [
    {
     "name": "stderr",
     "output_type": "stream",
     "text": [
      "D:\\Python-Anaconda3-64bit\\lib\\site-packages\\keras\\optimizer_v2\\adam.py:105: UserWarning: The `lr` argument is deprecated, use `learning_rate` instead.\n",
      "  super(Adam, self).__init__(name, **kwargs)\n"
     ]
    },
    {
     "name": "stdout",
     "output_type": "stream",
     "text": [
      "Epoch 1/100\n",
      "1/1 [==============================] - 5s 5s/step - loss: 0.6997 - accuracy: 0.4250\n",
      "Epoch 2/100\n",
      "1/1 [==============================] - 0s 201ms/step - loss: 0.6273 - accuracy: 0.7500\n",
      "Epoch 3/100\n",
      "1/1 [==============================] - 0s 189ms/step - loss: 0.5422 - accuracy: 0.8625\n",
      "Epoch 4/100\n",
      "1/1 [==============================] - 0s 156ms/step - loss: 0.4865 - accuracy: 0.9000\n",
      "Epoch 5/100\n",
      "1/1 [==============================] - 0s 157ms/step - loss: 0.4466 - accuracy: 0.8750\n",
      "Epoch 6/100\n",
      "1/1 [==============================] - 0s 157ms/step - loss: 0.3678 - accuracy: 0.9000\n",
      "Epoch 7/100\n",
      "1/1 [==============================] - 0s 157ms/step - loss: 0.3169 - accuracy: 0.9125\n",
      "Epoch 8/100\n",
      "1/1 [==============================] - 0s 157ms/step - loss: 0.3012 - accuracy: 0.9375\n",
      "Epoch 9/100\n",
      "1/1 [==============================] - 0s 179ms/step - loss: 0.2866 - accuracy: 0.9250\n",
      "Epoch 10/100\n",
      "1/1 [==============================] - 0s 189ms/step - loss: 0.2757 - accuracy: 0.9250\n",
      "Epoch 11/100\n",
      "1/1 [==============================] - 0s 168ms/step - loss: 0.2375 - accuracy: 0.9625\n",
      "Epoch 12/100\n",
      "1/1 [==============================] - 0s 167ms/step - loss: 0.2147 - accuracy: 0.9750\n",
      "Epoch 13/100\n",
      "1/1 [==============================] - 0s 191ms/step - loss: 0.1878 - accuracy: 0.9500\n",
      "Epoch 14/100\n",
      "1/1 [==============================] - 0s 189ms/step - loss: 0.1660 - accuracy: 0.9750\n",
      "Epoch 15/100\n",
      "1/1 [==============================] - 0s 168ms/step - loss: 0.1598 - accuracy: 0.9875\n",
      "Epoch 16/100\n",
      "1/1 [==============================] - 0s 168ms/step - loss: 0.1368 - accuracy: 0.9875\n",
      "Epoch 17/100\n",
      "1/1 [==============================] - 0s 168ms/step - loss: 0.1655 - accuracy: 0.9625\n",
      "Epoch 18/100\n",
      "1/1 [==============================] - 0s 253ms/step - loss: 0.1241 - accuracy: 0.9875\n",
      "Epoch 19/100\n",
      "1/1 [==============================] - 0s 295ms/step - loss: 0.1565 - accuracy: 0.9875\n",
      "Epoch 20/100\n",
      "1/1 [==============================] - 0s 279ms/step - loss: 0.1199 - accuracy: 0.9875\n",
      "Epoch 21/100\n",
      "1/1 [==============================] - 0s 193ms/step - loss: 0.1013 - accuracy: 1.0000\n",
      "Epoch 22/100\n",
      "1/1 [==============================] - 0s 224ms/step - loss: 0.0871 - accuracy: 1.0000\n",
      "Epoch 23/100\n",
      "1/1 [==============================] - 0s 266ms/step - loss: 0.0774 - accuracy: 0.9875\n",
      "Epoch 24/100\n",
      "1/1 [==============================] - 0s 291ms/step - loss: 0.0898 - accuracy: 1.0000\n",
      "Epoch 25/100\n",
      "1/1 [==============================] - 0s 268ms/step - loss: 0.0825 - accuracy: 0.9875\n",
      "Epoch 26/100\n",
      "1/1 [==============================] - 0s 258ms/step - loss: 0.0645 - accuracy: 1.0000\n",
      "Epoch 27/100\n",
      "1/1 [==============================] - 0s 190ms/step - loss: 0.0754 - accuracy: 0.9750\n",
      "Epoch 28/100\n",
      "1/1 [==============================] - 0s 179ms/step - loss: 0.0695 - accuracy: 0.9875\n",
      "Epoch 29/100\n",
      "1/1 [==============================] - 0s 190ms/step - loss: 0.0524 - accuracy: 0.9875\n",
      "Epoch 30/100\n",
      "1/1 [==============================] - 0s 179ms/step - loss: 0.0637 - accuracy: 1.0000\n",
      "Epoch 31/100\n",
      "1/1 [==============================] - 0s 180ms/step - loss: 0.0564 - accuracy: 1.0000\n",
      "Epoch 32/100\n",
      "1/1 [==============================] - 0s 179ms/step - loss: 0.0428 - accuracy: 0.9750\n",
      "Epoch 33/100\n",
      "1/1 [==============================] - 0s 156ms/step - loss: 0.0629 - accuracy: 0.9875\n",
      "Epoch 34/100\n",
      "1/1 [==============================] - 0s 179ms/step - loss: 0.0318 - accuracy: 1.0000\n",
      "Epoch 35/100\n",
      "1/1 [==============================] - 0s 167ms/step - loss: 0.0325 - accuracy: 1.0000\n",
      "Epoch 36/100\n",
      "1/1 [==============================] - 0s 190ms/step - loss: 0.0694 - accuracy: 0.9875\n",
      "Epoch 37/100\n",
      "1/1 [==============================] - 0s 190ms/step - loss: 0.0566 - accuracy: 1.0000\n",
      "Epoch 38/100\n",
      "1/1 [==============================] - 0s 200ms/step - loss: 0.0444 - accuracy: 1.0000\n",
      "Epoch 39/100\n",
      "1/1 [==============================] - 0s 323ms/step - loss: 0.0342 - accuracy: 1.0000\n",
      "Epoch 40/100\n",
      "1/1 [==============================] - 0s 256ms/step - loss: 0.0372 - accuracy: 1.0000\n",
      "Epoch 41/100\n",
      "1/1 [==============================] - 0s 290ms/step - loss: 0.0384 - accuracy: 1.0000\n",
      "Epoch 42/100\n",
      "1/1 [==============================] - 0s 267ms/step - loss: 0.0285 - accuracy: 1.0000\n",
      "Epoch 43/100\n",
      "1/1 [==============================] - 0s 280ms/step - loss: 0.0294 - accuracy: 1.0000\n",
      "Epoch 44/100\n",
      "1/1 [==============================] - 0s 276ms/step - loss: 0.0286 - accuracy: 1.0000\n",
      "Epoch 45/100\n",
      "1/1 [==============================] - 0s 290ms/step - loss: 0.0207 - accuracy: 1.0000\n",
      "Epoch 46/100\n",
      "1/1 [==============================] - 0s 191ms/step - loss: 0.0264 - accuracy: 1.0000\n",
      "Epoch 47/100\n",
      "1/1 [==============================] - 0s 201ms/step - loss: 0.0131 - accuracy: 1.0000\n",
      "Epoch 48/100\n",
      "1/1 [==============================] - 0s 213ms/step - loss: 0.0259 - accuracy: 1.0000\n",
      "Epoch 49/100\n",
      "1/1 [==============================] - 0s 201ms/step - loss: 0.0248 - accuracy: 1.0000\n",
      "Epoch 50/100\n",
      "1/1 [==============================] - 0s 190ms/step - loss: 0.0202 - accuracy: 1.0000\n",
      "Epoch 51/100\n",
      "1/1 [==============================] - 0s 240ms/step - loss: 0.0330 - accuracy: 0.9875\n",
      "Epoch 52/100\n",
      "1/1 [==============================] - 0s 273ms/step - loss: 0.0258 - accuracy: 1.0000\n",
      "Epoch 53/100\n",
      "1/1 [==============================] - 0s 267ms/step - loss: 0.0129 - accuracy: 1.0000\n",
      "Epoch 54/100\n",
      "1/1 [==============================] - 0s 290ms/step - loss: 0.0182 - accuracy: 1.0000\n",
      "Epoch 55/100\n",
      "1/1 [==============================] - 0s 268ms/step - loss: 0.0235 - accuracy: 1.0000\n",
      "Epoch 56/100\n",
      "1/1 [==============================] - 0s 266ms/step - loss: 0.0241 - accuracy: 0.9875\n",
      "Epoch 57/100\n",
      "1/1 [==============================] - 0s 279ms/step - loss: 0.0324 - accuracy: 0.9875\n",
      "Epoch 58/100\n",
      "1/1 [==============================] - 0s 279ms/step - loss: 0.0225 - accuracy: 0.9875\n",
      "Epoch 59/100\n",
      "1/1 [==============================] - 0s 429ms/step - loss: 0.0120 - accuracy: 1.0000\n",
      "Epoch 60/100\n",
      "1/1 [==============================] - 0s 283ms/step - loss: 0.0138 - accuracy: 1.0000\n",
      "Epoch 61/100\n",
      "1/1 [==============================] - 0s 197ms/step - loss: 0.0154 - accuracy: 1.0000\n",
      "Epoch 62/100\n",
      "1/1 [==============================] - 0s 180ms/step - loss: 0.0115 - accuracy: 1.0000\n",
      "Epoch 63/100\n",
      "1/1 [==============================] - 0s 167ms/step - loss: 0.0220 - accuracy: 1.0000\n",
      "Epoch 64/100\n",
      "1/1 [==============================] - 0s 238ms/step - loss: 0.0093 - accuracy: 1.0000\n",
      "Epoch 65/100\n",
      "1/1 [==============================] - 0s 179ms/step - loss: 0.0224 - accuracy: 1.0000\n",
      "Epoch 66/100\n",
      "1/1 [==============================] - 0s 179ms/step - loss: 0.0225 - accuracy: 0.9875\n",
      "Epoch 67/100\n",
      "1/1 [==============================] - 0s 168ms/step - loss: 0.0199 - accuracy: 1.0000\n",
      "Epoch 68/100\n",
      "1/1 [==============================] - 0s 168ms/step - loss: 0.0131 - accuracy: 1.0000\n",
      "Epoch 69/100\n",
      "1/1 [==============================] - 0s 179ms/step - loss: 0.0172 - accuracy: 1.0000\n",
      "Epoch 70/100\n",
      "1/1 [==============================] - 0s 168ms/step - loss: 0.0164 - accuracy: 1.0000\n",
      "Epoch 71/100\n",
      "1/1 [==============================] - 0s 158ms/step - loss: 0.0251 - accuracy: 1.0000\n",
      "Epoch 72/100\n",
      "1/1 [==============================] - 0s 168ms/step - loss: 0.0239 - accuracy: 0.9875\n",
      "Epoch 73/100\n",
      "1/1 [==============================] - 0s 167ms/step - loss: 0.0265 - accuracy: 0.9875\n",
      "Epoch 74/100\n",
      "1/1 [==============================] - 0s 157ms/step - loss: 0.1004 - accuracy: 0.9750\n",
      "Epoch 75/100\n",
      "1/1 [==============================] - 0s 157ms/step - loss: 0.2652 - accuracy: 0.9500\n",
      "Epoch 76/100\n",
      "1/1 [==============================] - 0s 157ms/step - loss: 0.0174 - accuracy: 1.0000\n",
      "Epoch 77/100\n",
      "1/1 [==============================] - 0s 156ms/step - loss: 0.2421 - accuracy: 0.9500\n",
      "Epoch 78/100\n",
      "1/1 [==============================] - 0s 168ms/step - loss: 0.4456 - accuracy: 0.9000\n",
      "Epoch 79/100\n",
      "1/1 [==============================] - 0s 168ms/step - loss: 0.2949 - accuracy: 0.9500\n",
      "Epoch 80/100\n",
      "1/1 [==============================] - 0s 156ms/step - loss: 0.1592 - accuracy: 0.9500\n",
      "Epoch 81/100\n",
      "1/1 [==============================] - 0s 168ms/step - loss: 0.2317 - accuracy: 0.9500\n",
      "Epoch 82/100\n",
      "1/1 [==============================] - 0s 157ms/step - loss: 0.2045 - accuracy: 0.9500\n",
      "Epoch 83/100\n"
     ]
    },
    {
     "name": "stdout",
     "output_type": "stream",
     "text": [
      "1/1 [==============================] - 0s 157ms/step - loss: 0.1657 - accuracy: 0.9500\n",
      "Epoch 84/100\n",
      "1/1 [==============================] - 0s 146ms/step - loss: 0.0954 - accuracy: 0.9625\n",
      "Epoch 85/100\n",
      "1/1 [==============================] - 0s 157ms/step - loss: 0.0852 - accuracy: 0.9750\n",
      "Epoch 86/100\n",
      "1/1 [==============================] - 0s 156ms/step - loss: 0.0990 - accuracy: 0.9750\n",
      "Epoch 87/100\n",
      "1/1 [==============================] - 0s 179ms/step - loss: 0.0845 - accuracy: 0.9875\n",
      "Epoch 88/100\n",
      "1/1 [==============================] - 0s 157ms/step - loss: 0.0708 - accuracy: 0.9875\n",
      "Epoch 89/100\n",
      "1/1 [==============================] - 0s 169ms/step - loss: 0.0668 - accuracy: 0.9750\n",
      "Epoch 90/100\n",
      "1/1 [==============================] - 0s 157ms/step - loss: 0.0861 - accuracy: 0.9750\n",
      "Epoch 91/100\n",
      "1/1 [==============================] - 0s 169ms/step - loss: 0.0805 - accuracy: 0.9625\n",
      "Epoch 92/100\n",
      "1/1 [==============================] - 0s 179ms/step - loss: 0.0638 - accuracy: 0.9750\n",
      "Epoch 93/100\n",
      "1/1 [==============================] - 0s 179ms/step - loss: 0.0570 - accuracy: 0.9750\n",
      "Epoch 94/100\n",
      "1/1 [==============================] - 0s 192ms/step - loss: 0.0547 - accuracy: 0.9750\n",
      "Epoch 95/100\n",
      "1/1 [==============================] - 0s 157ms/step - loss: 0.0530 - accuracy: 0.9750\n",
      "Epoch 96/100\n",
      "1/1 [==============================] - 0s 178ms/step - loss: 0.0524 - accuracy: 0.9750\n",
      "Epoch 97/100\n",
      "1/1 [==============================] - 0s 328ms/step - loss: 0.0407 - accuracy: 0.9875\n",
      "Epoch 98/100\n",
      "1/1 [==============================] - 0s 190ms/step - loss: 0.0468 - accuracy: 0.9875\n",
      "Epoch 99/100\n",
      "1/1 [==============================] - 0s 179ms/step - loss: 0.0437 - accuracy: 0.9875\n",
      "Epoch 100/100\n",
      "1/1 [==============================] - 0s 178ms/step - loss: 0.0373 - accuracy: 1.0000\n"
     ]
    },
    {
     "data": {
      "text/plain": [
       "<keras.callbacks.History at 0x2c9c17a3288>"
      ]
     },
     "execution_count": 58,
     "metadata": {},
     "output_type": "execute_result"
    }
   ],
   "source": [
    "from keras.callbacks import TensorBoard\n",
    "adam = adam_v2.Adam(lr=0.001)\n",
    "chk = ModelCheckpoint('best_model.pkl', monitor='val_acc', save_best_only=True, mode='max', verbose=1)\n",
    "model.compile(loss='binary_crossentropy', optimizer=adam, metrics=['accuracy'])\n",
    "model.fit(train_data, train_target, epochs=100, batch_size=128, callbacks=[TensorBoard(log_dir='./logs')])"
   ]
  },
  {
   "cell_type": "markdown",
   "metadata": {},
   "source": [
    "# 检测结果"
   ]
  },
  {
   "cell_type": "code",
   "execution_count": 70,
   "metadata": {},
   "outputs": [
    {
     "name": "stdout",
     "output_type": "stream",
     "text": [
      "模型准确率为：\n",
      "100.0 %\n"
     ]
    }
   ],
   "source": [
    "#model = load_model('best_model.pkl')\n",
    "\n",
    "from sklearn.metrics import accuracy_score\n",
    "#test_preds = model.predict_classes(test_data)\n",
    "test_preds = model.predict(test_data)\n",
    "for i in range(len(test_preds)):\n",
    "    if test_preds[i] > 0.5:\n",
    "        test_preds[i] = 1\n",
    "    else:\n",
    "        test_preds[i] = 0\n",
    "print(\"模型准确率为：\")\n",
    "print(accuracy_score(test_target, test_preds)*100, \"%\")"
   ]
  },
  {
   "cell_type": "code",
   "execution_count": 3,
   "metadata": {},
   "outputs": [
    {
     "name": "stdout",
     "output_type": "stream",
     "text": [
      "Known TensorBoard instances:\n",
      "  - port 8123: logdir logs (started 0:14:05 ago; pid 19564)\n"
     ]
    },
    {
     "data": {
      "text/html": [
       "\n",
       "      <iframe id=\"tensorboard-frame-2a01b0f01beb18d7\" width=\"100%\" height=\"800\" frameborder=\"0\">\n",
       "      </iframe>\n",
       "      <script>\n",
       "        (function() {\n",
       "          const frame = document.getElementById(\"tensorboard-frame-2a01b0f01beb18d7\");\n",
       "          const url = new URL(\"/\", window.location);\n",
       "          const port = 8122;\n",
       "          if (port) {\n",
       "            url.port = port;\n",
       "          }\n",
       "          frame.src = url;\n",
       "        })();\n",
       "      </script>\n",
       "    "
      ],
      "text/plain": [
       "<IPython.core.display.HTML object>"
      ]
     },
     "metadata": {},
     "output_type": "display_data"
    }
   ],
   "source": [
    "from tensorboard import notebook\n",
    "notebook.list()\n",
    "notebook.start(\"--logdir logs --port 8122\")"
   ]
  },
  {
   "cell_type": "markdown",
   "metadata": {},
   "source": [
    "# 保存模型"
   ]
  },
  {
   "cell_type": "code",
   "execution_count": 68,
   "metadata": {},
   "outputs": [],
   "source": [
    "model.save(\"LSTM9629.h5\")"
   ]
  },
  {
   "cell_type": "code",
   "execution_count": 69,
   "metadata": {},
   "outputs": [
    {
     "name": "stdout",
     "output_type": "stream",
     "text": [
      "Model: \"sequential_2\"\n",
      "_________________________________________________________________\n",
      " Layer (type)                Output Shape              Param #   \n",
      "=================================================================\n",
      " lstm_8 (LSTM)               (None, 32, 256)           269312    \n",
      "                                                                 \n",
      " lstm_9 (LSTM)               (None, 32, 128)           197120    \n",
      "                                                                 \n",
      " lstm_10 (LSTM)              (None, 32, 64)            49408     \n",
      "                                                                 \n",
      " lstm_11 (LSTM)              (None, 32)                12416     \n",
      "                                                                 \n",
      " dense_4 (Dense)             (None, 16)                528       \n",
      "                                                                 \n",
      " dropout_2 (Dropout)         (None, 16)                0         \n",
      "                                                                 \n",
      " dense_5 (Dense)             (None, 1)                 17        \n",
      "                                                                 \n",
      "=================================================================\n",
      "Total params: 528,801\n",
      "Trainable params: 528,801\n",
      "Non-trainable params: 0\n",
      "_________________________________________________________________\n"
     ]
    }
   ],
   "source": [
    "from tensorflow.keras.models import load_model\n",
    "model = load_model(\"LSTM9629.h5\")\n",
    "model.summary()"
   ]
  },
  {
   "cell_type": "code",
   "execution_count": 43,
   "metadata": {},
   "outputs": [
    {
     "name": "stdout",
     "output_type": "stream",
     "text": [
      "[0]\n",
      "[[2.6852252]]\n",
      "[1]\n"
     ]
    }
   ],
   "source": [
    "predict_x = model.predict(test_data[0][None,:,:])\n",
    "classes_x=np.argmax(predict_x,axis=1)\n",
    "print(classes_x)\n",
    "print(predict_x)\n",
    "print(test_target[0])"
   ]
  },
  {
   "cell_type": "code",
   "execution_count": null,
   "metadata": {},
   "outputs": [],
   "source": []
  }
 ],
 "metadata": {
  "kernelspec": {
   "display_name": "Pytorch for Deeplearning",
   "language": "python",
   "name": "pytorch"
  },
  "language_info": {
   "codemirror_mode": {
    "name": "ipython",
    "version": 3
   },
   "file_extension": ".py",
   "mimetype": "text/x-python",
   "name": "python",
   "nbconvert_exporter": "python",
   "pygments_lexer": "ipython3",
   "version": "3.7.11"
  }
 },
 "nbformat": 4,
 "nbformat_minor": 2
}
